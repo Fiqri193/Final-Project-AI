{
  "cells": [
    {
      "cell_type": "markdown",
      "metadata": {
        "id": "w5TdCVHesKSk"
      },
      "source": [
        "<h3>1. Import module yang dibutuhkan</h3>"
      ]
    },
    {
      "cell_type": "code",
      "execution_count": 190,
      "metadata": {
        "id": "oo7eByuosKSm"
      },
      "outputs": [],
      "source": [
        "from sklearn.model_selection import train_test_split\n",
        "from sklearn.preprocessing import LabelEncoder\n",
        "from sklearn.metrics import classification_report\n",
        "from tensorflow.keras.models import Sequential\n",
        "from tensorflow.keras.layers import InputLayer, Flatten, Dense, Conv2D, MaxPool2D, Dropout\n",
        "from tensorflow.keras.optimizers import Adam\n",
        "from cv2_plt_imshow import cv2_plt_imshow\n",
        "import numpy as np\n",
        "import cv2\n",
        "import glob\n",
        "import matplotlib.pyplot as plt"
      ]
    },
    {
      "cell_type": "markdown",
      "metadata": {
        "id": "LyqN3AoZsKSo"
      },
      "source": [
        "<h3>2. Load Dataset</h3>"
      ]
    },
    {
      "cell_type": "code",
      "execution_count": 191,
      "metadata": {
        "id": "ej_PGdWPsKSo"
      },
      "outputs": [],
      "source": [
        "imagePaths = 'Dataset/'\n",
        "label_list = ['Jeruk Nipis', 'Sirih']\n",
        "data = []\n",
        "labels = []"
      ]
    },
    {
      "cell_type": "code",
      "execution_count": 192,
      "metadata": {
        "id": "4SM24FIvsKSo"
      },
      "outputs": [],
      "source": [
        "for label in label_list:\n",
        "    for imagePath in glob.glob(imagePaths+label+'/*.jpg'):\n",
        "        #print(imagePath)\n",
        "        image = cv2.imread(imagePath)\n",
        "        image = cv2.resize(image, (32, 32))\n",
        "        data.append(image)\n",
        "        labels.append(label)"
      ]
    },
    {
      "cell_type": "code",
      "execution_count": 193,
      "metadata": {
        "colab": {
          "base_uri": "https://localhost:8080/"
        },
        "id": "Ag-WQ_bBsKSp",
        "outputId": "e5ba73bd-4b17-41c4-bec5-71d288c1a75c"
      },
      "outputs": [
        {
          "data": {
            "text/plain": [
              "(100, 32, 32, 3)"
            ]
          },
          "execution_count": 193,
          "metadata": {},
          "output_type": "execute_result"
        }
      ],
      "source": [
        "np.array(data).shape"
      ]
    },
    {
      "cell_type": "markdown",
      "metadata": {
        "id": "70gEjh8IsKSp"
      },
      "source": [
        "<h3>3. Data Preprocessing</h3>"
      ]
    },
    {
      "cell_type": "code",
      "execution_count": 194,
      "metadata": {
        "id": "yUrdtKgksKSp"
      },
      "outputs": [],
      "source": [
        "# ubah type data dari list menjadi array\n",
        "# ubah nilai dari tiap pixel menjadi range [0..1]\n",
        "data = np.array(data, dtype='float') / 255.0\n",
        "labels = np.array(labels)"
      ]
    },
    {
      "cell_type": "code",
      "execution_count": 195,
      "metadata": {
        "colab": {
          "base_uri": "https://localhost:8080/"
        },
        "id": "4yxcPodJsKSq",
        "outputId": "ab442104-42a2-4174-d733-406b60bae56c"
      },
      "outputs": [
        {
          "name": "stdout",
          "output_type": "stream",
          "text": [
            "['Jeruk Nipis' 'Jeruk Nipis' 'Jeruk Nipis' 'Jeruk Nipis' 'Jeruk Nipis'\n",
            " 'Jeruk Nipis' 'Jeruk Nipis' 'Jeruk Nipis' 'Jeruk Nipis' 'Jeruk Nipis'\n",
            " 'Jeruk Nipis' 'Jeruk Nipis' 'Jeruk Nipis' 'Jeruk Nipis' 'Jeruk Nipis'\n",
            " 'Jeruk Nipis' 'Jeruk Nipis' 'Jeruk Nipis' 'Jeruk Nipis' 'Jeruk Nipis'\n",
            " 'Jeruk Nipis' 'Jeruk Nipis' 'Jeruk Nipis' 'Jeruk Nipis' 'Jeruk Nipis'\n",
            " 'Jeruk Nipis' 'Jeruk Nipis' 'Jeruk Nipis' 'Jeruk Nipis' 'Jeruk Nipis'\n",
            " 'Jeruk Nipis' 'Jeruk Nipis' 'Jeruk Nipis' 'Jeruk Nipis' 'Jeruk Nipis'\n",
            " 'Jeruk Nipis' 'Jeruk Nipis' 'Jeruk Nipis' 'Jeruk Nipis' 'Jeruk Nipis'\n",
            " 'Jeruk Nipis' 'Jeruk Nipis' 'Jeruk Nipis' 'Jeruk Nipis' 'Jeruk Nipis'\n",
            " 'Jeruk Nipis' 'Jeruk Nipis' 'Jeruk Nipis' 'Jeruk Nipis' 'Jeruk Nipis'\n",
            " 'Sirih' 'Sirih' 'Sirih' 'Sirih' 'Sirih' 'Sirih' 'Sirih' 'Sirih' 'Sirih'\n",
            " 'Sirih' 'Sirih' 'Sirih' 'Sirih' 'Sirih' 'Sirih' 'Sirih' 'Sirih' 'Sirih'\n",
            " 'Sirih' 'Sirih' 'Sirih' 'Sirih' 'Sirih' 'Sirih' 'Sirih' 'Sirih' 'Sirih'\n",
            " 'Sirih' 'Sirih' 'Sirih' 'Sirih' 'Sirih' 'Sirih' 'Sirih' 'Sirih' 'Sirih'\n",
            " 'Sirih' 'Sirih' 'Sirih' 'Sirih' 'Sirih' 'Sirih' 'Sirih' 'Sirih' 'Sirih'\n",
            " 'Sirih' 'Sirih' 'Sirih' 'Sirih' 'Sirih']\n"
          ]
        }
      ],
      "source": [
        "print(labels)"
      ]
    },
    {
      "cell_type": "code",
      "execution_count": 196,
      "metadata": {
        "colab": {
          "base_uri": "https://localhost:8080/"
        },
        "id": "271gkDdysKSq",
        "outputId": "bf302a13-eba5-40cb-997f-95162ac9fe68"
      },
      "outputs": [
        {
          "name": "stdout",
          "output_type": "stream",
          "text": [
            "[0 0 0 0 0 0 0 0 0 0 0 0 0 0 0 0 0 0 0 0 0 0 0 0 0 0 0 0 0 0 0 0 0 0 0 0 0\n",
            " 0 0 0 0 0 0 0 0 0 0 0 0 0 1 1 1 1 1 1 1 1 1 1 1 1 1 1 1 1 1 1 1 1 1 1 1 1\n",
            " 1 1 1 1 1 1 1 1 1 1 1 1 1 1 1 1 1 1 1 1 1 1 1 1 1 1]\n"
          ]
        }
      ],
      "source": [
        "# ubah nilai dari labels menjadi binary\n",
        "lb = LabelEncoder()\n",
        "labels = lb.fit_transform(labels)\n",
        "print(labels)"
      ]
    },
    {
      "cell_type": "markdown",
      "metadata": {
        "id": "ibcLpKt4sKSq"
      },
      "source": [
        "<h3>4. Split Dataset</h3>"
      ]
    },
    {
      "cell_type": "code",
      "execution_count": 197,
      "metadata": {
        "id": "sqy6pMbisKSq"
      },
      "outputs": [],
      "source": [
        "x_train, x_test, y_train, y_test = train_test_split(data, labels, test_size=0.2, random_state=42)"
      ]
    },
    {
      "cell_type": "code",
      "execution_count": 198,
      "metadata": {
        "colab": {
          "base_uri": "https://localhost:8080/"
        },
        "id": "16CfxvYKsKSr",
        "outputId": "7d21e85d-1e06-4e6d-c27f-4a0f2eec2b32"
      },
      "outputs": [
        {
          "name": "stdout",
          "output_type": "stream",
          "text": [
            "Ukuran data train = (80, 32, 32, 3)\n",
            "Ukuran data test = (20, 32, 32, 3)\n"
          ]
        }
      ],
      "source": [
        "print('Ukuran data train =', x_train.shape)\n",
        "print('Ukuran data test =', x_test.shape)"
      ]
    },
    {
      "cell_type": "markdown",
      "metadata": {
        "id": "rVll2y0xsKSr"
      },
      "source": [
        "<h3>5. Build CNN Architecture</h3>"
      ]
    },
    {
      "cell_type": "code",
      "execution_count": 199,
      "metadata": {
        "id": "v4zCF7BfsKSr"
      },
      "outputs": [],
      "source": [
        "model = Sequential()\n",
        "# Extracted Feature Layer\n",
        "model.add(InputLayer(input_shape=[32,32,3]))\n",
        "model.add(Conv2D(filters=32, kernel_size=2, strides=1, padding='same', activation='relu'))\n",
        "model.add(MaxPool2D(pool_size=2, padding='same'))\n",
        "model.add(Conv2D(filters=50, kernel_size=2, strides=1, padding='same', activation='relu'))\n",
        "model.add(MaxPool2D(pool_size=2, padding='same'))\n",
        "model.add(Dropout(0.25))\n",
        "model.add(Flatten())\n",
        "# Fully Connected Layer\n",
        "model.add(Dense(512, activation='relu'))\n",
        "model.add(Dropout(0.5))\n",
        "model.add(Dense(1, activation='sigmoid'))"
      ]
    },
    {
      "cell_type": "code",
      "execution_count": 200,
      "metadata": {
        "colab": {
          "base_uri": "https://localhost:8080/"
        },
        "id": "zYe_spQssKSs",
        "outputId": "657ae6b1-e755-495f-bb1f-fe87bc8ce0a7"
      },
      "outputs": [
        {
          "name": "stdout",
          "output_type": "stream",
          "text": [
            "Model: \"sequential_9\"\n",
            "_________________________________________________________________\n",
            " Layer (type)                Output Shape              Param #   \n",
            "=================================================================\n",
            " conv2d_18 (Conv2D)          (None, 32, 32, 32)        416       \n",
            "                                                                 \n",
            " max_pooling2d_18 (MaxPoolin  (None, 16, 16, 32)       0         \n",
            " g2D)                                                            \n",
            "                                                                 \n",
            " conv2d_19 (Conv2D)          (None, 16, 16, 50)        6450      \n",
            "                                                                 \n",
            " max_pooling2d_19 (MaxPoolin  (None, 8, 8, 50)         0         \n",
            " g2D)                                                            \n",
            "                                                                 \n",
            " dropout_18 (Dropout)        (None, 8, 8, 50)          0         \n",
            "                                                                 \n",
            " flatten_9 (Flatten)         (None, 3200)              0         \n",
            "                                                                 \n",
            " dense_18 (Dense)            (None, 512)               1638912   \n",
            "                                                                 \n",
            " dropout_19 (Dropout)        (None, 512)               0         \n",
            "                                                                 \n",
            " dense_19 (Dense)            (None, 1)                 513       \n",
            "                                                                 \n",
            "=================================================================\n",
            "Total params: 1,646,291\n",
            "Trainable params: 1,646,291\n",
            "Non-trainable params: 0\n",
            "_________________________________________________________________\n"
          ]
        }
      ],
      "source": [
        "model.summary()"
      ]
    },
    {
      "cell_type": "code",
      "execution_count": 201,
      "metadata": {
        "id": "c1O7Dz3zsKSs"
      },
      "outputs": [],
      "source": [
        "# tentukan hyperparameter\n",
        "lr = 0.001\n",
        "max_epochs = 100\n",
        "opt_funct = Adam(learning_rate=lr)"
      ]
    },
    {
      "cell_type": "code",
      "execution_count": 202,
      "metadata": {
        "id": "7jEQAKCusKSs"
      },
      "outputs": [],
      "source": [
        "# compile arsitektur yang telah dibuat\n",
        "model.compile(loss = 'binary_crossentropy', \n",
        "              optimizer = opt_funct, \n",
        "              metrics = ['accuracy'])"
      ]
    },
    {
      "cell_type": "markdown",
      "metadata": {
        "id": "42_8cy_ksKSt"
      },
      "source": [
        "<h3>6. Train Model</h3>"
      ]
    },
    {
      "cell_type": "code",
      "execution_count": 203,
      "metadata": {
        "colab": {
          "base_uri": "https://localhost:8080/"
        },
        "id": "TkCmK397sKSt",
        "outputId": "78661837-6579-48fb-ce77-420742c2d8b7"
      },
      "outputs": [
        {
          "name": "stdout",
          "output_type": "stream",
          "text": [
            "Epoch 1/100\n",
            "3/3 [==============================] - 1s 76ms/step - loss: 1.0399 - accuracy: 0.4500 - val_loss: 0.9953 - val_accuracy: 0.4000\n",
            "Epoch 2/100\n",
            "3/3 [==============================] - 0s 29ms/step - loss: 0.9788 - accuracy: 0.4750 - val_loss: 0.7683 - val_accuracy: 0.6000\n",
            "Epoch 3/100\n",
            "3/3 [==============================] - 0s 28ms/step - loss: 0.7513 - accuracy: 0.5750 - val_loss: 0.8812 - val_accuracy: 0.4000\n",
            "Epoch 4/100\n",
            "3/3 [==============================] - 0s 32ms/step - loss: 0.8292 - accuracy: 0.5250 - val_loss: 0.8801 - val_accuracy: 0.4000\n",
            "Epoch 5/100\n",
            "3/3 [==============================] - 0s 28ms/step - loss: 0.7521 - accuracy: 0.5750 - val_loss: 0.6851 - val_accuracy: 0.6500\n",
            "Epoch 6/100\n",
            "3/3 [==============================] - 0s 29ms/step - loss: 0.7371 - accuracy: 0.4375 - val_loss: 0.6657 - val_accuracy: 0.6000\n",
            "Epoch 7/100\n",
            "3/3 [==============================] - 0s 28ms/step - loss: 0.7428 - accuracy: 0.4750 - val_loss: 0.6646 - val_accuracy: 0.6000\n",
            "Epoch 8/100\n",
            "3/3 [==============================] - 0s 28ms/step - loss: 0.7050 - accuracy: 0.4875 - val_loss: 0.6807 - val_accuracy: 0.8000\n",
            "Epoch 9/100\n",
            "3/3 [==============================] - 0s 27ms/step - loss: 0.6995 - accuracy: 0.4375 - val_loss: 0.7053 - val_accuracy: 0.4000\n",
            "Epoch 10/100\n",
            "3/3 [==============================] - 0s 29ms/step - loss: 0.6850 - accuracy: 0.5375 - val_loss: 0.7040 - val_accuracy: 0.4000\n",
            "Epoch 11/100\n",
            "3/3 [==============================] - 0s 28ms/step - loss: 0.6878 - accuracy: 0.5625 - val_loss: 0.6986 - val_accuracy: 0.4000\n",
            "Epoch 12/100\n",
            "3/3 [==============================] - 0s 28ms/step - loss: 0.6688 - accuracy: 0.5500 - val_loss: 0.6957 - val_accuracy: 0.4000\n",
            "Epoch 13/100\n",
            "3/3 [==============================] - 0s 28ms/step - loss: 0.6701 - accuracy: 0.5875 - val_loss: 0.6887 - val_accuracy: 0.4000\n",
            "Epoch 14/100\n",
            "3/3 [==============================] - 0s 29ms/step - loss: 0.6563 - accuracy: 0.6750 - val_loss: 0.6847 - val_accuracy: 0.5500\n",
            "Epoch 15/100\n",
            "3/3 [==============================] - 0s 27ms/step - loss: 0.6598 - accuracy: 0.6500 - val_loss: 0.6788 - val_accuracy: 0.6000\n",
            "Epoch 16/100\n",
            "3/3 [==============================] - 0s 30ms/step - loss: 0.6502 - accuracy: 0.6500 - val_loss: 0.6677 - val_accuracy: 0.6500\n",
            "Epoch 17/100\n",
            "3/3 [==============================] - 0s 28ms/step - loss: 0.6346 - accuracy: 0.6750 - val_loss: 0.6571 - val_accuracy: 0.6500\n",
            "Epoch 18/100\n",
            "3/3 [==============================] - 0s 29ms/step - loss: 0.6205 - accuracy: 0.7500 - val_loss: 0.6415 - val_accuracy: 0.6500\n",
            "Epoch 19/100\n",
            "3/3 [==============================] - 0s 27ms/step - loss: 0.6072 - accuracy: 0.6875 - val_loss: 0.6268 - val_accuracy: 0.6500\n",
            "Epoch 20/100\n",
            "3/3 [==============================] - 0s 28ms/step - loss: 0.5886 - accuracy: 0.7750 - val_loss: 0.6116 - val_accuracy: 0.6500\n",
            "Epoch 21/100\n",
            "3/3 [==============================] - 0s 27ms/step - loss: 0.5462 - accuracy: 0.8250 - val_loss: 0.6031 - val_accuracy: 0.6500\n",
            "Epoch 22/100\n",
            "3/3 [==============================] - 0s 27ms/step - loss: 0.5583 - accuracy: 0.7750 - val_loss: 0.5660 - val_accuracy: 0.7000\n",
            "Epoch 23/100\n",
            "3/3 [==============================] - 0s 28ms/step - loss: 0.5154 - accuracy: 0.8250 - val_loss: 0.5489 - val_accuracy: 0.7000\n",
            "Epoch 24/100\n",
            "3/3 [==============================] - 0s 28ms/step - loss: 0.4762 - accuracy: 0.8375 - val_loss: 0.5202 - val_accuracy: 0.7500\n",
            "Epoch 25/100\n",
            "3/3 [==============================] - 0s 28ms/step - loss: 0.4788 - accuracy: 0.8625 - val_loss: 0.4912 - val_accuracy: 0.8000\n",
            "Epoch 26/100\n",
            "3/3 [==============================] - 0s 27ms/step - loss: 0.4254 - accuracy: 0.8500 - val_loss: 0.4858 - val_accuracy: 0.8000\n",
            "Epoch 27/100\n",
            "3/3 [==============================] - 0s 27ms/step - loss: 0.4163 - accuracy: 0.8375 - val_loss: 0.4380 - val_accuracy: 0.8000\n",
            "Epoch 28/100\n",
            "3/3 [==============================] - 0s 27ms/step - loss: 0.3899 - accuracy: 0.8750 - val_loss: 0.4076 - val_accuracy: 0.8500\n",
            "Epoch 29/100\n",
            "3/3 [==============================] - 0s 32ms/step - loss: 0.3938 - accuracy: 0.8375 - val_loss: 0.3883 - val_accuracy: 0.8000\n",
            "Epoch 30/100\n",
            "3/3 [==============================] - 0s 39ms/step - loss: 0.3736 - accuracy: 0.8625 - val_loss: 0.3903 - val_accuracy: 0.9000\n",
            "Epoch 31/100\n",
            "3/3 [==============================] - 0s 32ms/step - loss: 0.3403 - accuracy: 0.8875 - val_loss: 0.3554 - val_accuracy: 0.8000\n",
            "Epoch 32/100\n",
            "3/3 [==============================] - 0s 27ms/step - loss: 0.2939 - accuracy: 0.9125 - val_loss: 0.3383 - val_accuracy: 0.8500\n",
            "Epoch 33/100\n",
            "3/3 [==============================] - 0s 28ms/step - loss: 0.3057 - accuracy: 0.8875 - val_loss: 0.3521 - val_accuracy: 0.9000\n",
            "Epoch 34/100\n",
            "3/3 [==============================] - 0s 29ms/step - loss: 0.2603 - accuracy: 0.8750 - val_loss: 0.2962 - val_accuracy: 0.8500\n",
            "Epoch 35/100\n",
            "3/3 [==============================] - 0s 28ms/step - loss: 0.2909 - accuracy: 0.9125 - val_loss: 0.2814 - val_accuracy: 0.8500\n",
            "Epoch 36/100\n",
            "3/3 [==============================] - 0s 27ms/step - loss: 0.2273 - accuracy: 0.9250 - val_loss: 0.3409 - val_accuracy: 0.9000\n",
            "Epoch 37/100\n",
            "3/3 [==============================] - 0s 29ms/step - loss: 0.2093 - accuracy: 0.9500 - val_loss: 0.2684 - val_accuracy: 0.9000\n",
            "Epoch 38/100\n",
            "3/3 [==============================] - 0s 27ms/step - loss: 0.2183 - accuracy: 0.9250 - val_loss: 0.2685 - val_accuracy: 0.9000\n",
            "Epoch 39/100\n",
            "3/3 [==============================] - 0s 28ms/step - loss: 0.1911 - accuracy: 0.9375 - val_loss: 0.3034 - val_accuracy: 0.9000\n",
            "Epoch 40/100\n",
            "3/3 [==============================] - 0s 27ms/step - loss: 0.2343 - accuracy: 0.9125 - val_loss: 0.2420 - val_accuracy: 0.8500\n",
            "Epoch 41/100\n",
            "3/3 [==============================] - 0s 30ms/step - loss: 0.2268 - accuracy: 0.9500 - val_loss: 0.2219 - val_accuracy: 0.9000\n",
            "Epoch 42/100\n",
            "3/3 [==============================] - 0s 28ms/step - loss: 0.2148 - accuracy: 0.9125 - val_loss: 0.2341 - val_accuracy: 0.9000\n",
            "Epoch 43/100\n",
            "3/3 [==============================] - 0s 27ms/step - loss: 0.1610 - accuracy: 0.9500 - val_loss: 0.2151 - val_accuracy: 0.9000\n",
            "Epoch 44/100\n",
            "3/3 [==============================] - 0s 28ms/step - loss: 0.1527 - accuracy: 0.9625 - val_loss: 0.2000 - val_accuracy: 0.9000\n",
            "Epoch 45/100\n",
            "3/3 [==============================] - 0s 28ms/step - loss: 0.1387 - accuracy: 0.9750 - val_loss: 0.2036 - val_accuracy: 0.8500\n",
            "Epoch 46/100\n",
            "3/3 [==============================] - 0s 26ms/step - loss: 0.1144 - accuracy: 0.9750 - val_loss: 0.1985 - val_accuracy: 0.9000\n",
            "Epoch 47/100\n",
            "3/3 [==============================] - 0s 28ms/step - loss: 0.0933 - accuracy: 0.9875 - val_loss: 0.1832 - val_accuracy: 0.9000\n",
            "Epoch 48/100\n",
            "3/3 [==============================] - 0s 29ms/step - loss: 0.1298 - accuracy: 0.9500 - val_loss: 0.1811 - val_accuracy: 0.9000\n",
            "Epoch 49/100\n",
            "3/3 [==============================] - 0s 28ms/step - loss: 0.1304 - accuracy: 0.9625 - val_loss: 0.1830 - val_accuracy: 0.9000\n",
            "Epoch 50/100\n",
            "3/3 [==============================] - 0s 29ms/step - loss: 0.1034 - accuracy: 0.9625 - val_loss: 0.1680 - val_accuracy: 0.9000\n",
            "Epoch 51/100\n",
            "3/3 [==============================] - 0s 28ms/step - loss: 0.1018 - accuracy: 0.9750 - val_loss: 0.1631 - val_accuracy: 0.9000\n",
            "Epoch 52/100\n",
            "3/3 [==============================] - 0s 28ms/step - loss: 0.1190 - accuracy: 0.9500 - val_loss: 0.2145 - val_accuracy: 0.9000\n",
            "Epoch 53/100\n",
            "3/3 [==============================] - 0s 27ms/step - loss: 0.1027 - accuracy: 0.9750 - val_loss: 0.2048 - val_accuracy: 0.9000\n",
            "Epoch 54/100\n",
            "3/3 [==============================] - 0s 27ms/step - loss: 0.0759 - accuracy: 0.9875 - val_loss: 0.1591 - val_accuracy: 0.9500\n",
            "Epoch 55/100\n",
            "3/3 [==============================] - 0s 28ms/step - loss: 0.0891 - accuracy: 0.9875 - val_loss: 0.1520 - val_accuracy: 0.9000\n",
            "Epoch 56/100\n",
            "3/3 [==============================] - 0s 28ms/step - loss: 0.0523 - accuracy: 0.9875 - val_loss: 0.1540 - val_accuracy: 0.9000\n",
            "Epoch 57/100\n",
            "3/3 [==============================] - 0s 28ms/step - loss: 0.0636 - accuracy: 0.9875 - val_loss: 0.1446 - val_accuracy: 0.9000\n",
            "Epoch 58/100\n",
            "3/3 [==============================] - 0s 28ms/step - loss: 0.0673 - accuracy: 0.9875 - val_loss: 0.1414 - val_accuracy: 0.9500\n",
            "Epoch 59/100\n",
            "3/3 [==============================] - 0s 28ms/step - loss: 0.0728 - accuracy: 0.9625 - val_loss: 0.1376 - val_accuracy: 0.9000\n",
            "Epoch 60/100\n",
            "3/3 [==============================] - 0s 28ms/step - loss: 0.0669 - accuracy: 0.9750 - val_loss: 0.1477 - val_accuracy: 0.9000\n",
            "Epoch 61/100\n",
            "3/3 [==============================] - 0s 28ms/step - loss: 0.0312 - accuracy: 1.0000 - val_loss: 0.1399 - val_accuracy: 0.9500\n",
            "Epoch 62/100\n",
            "3/3 [==============================] - 0s 27ms/step - loss: 0.0465 - accuracy: 1.0000 - val_loss: 0.1391 - val_accuracy: 0.9500\n",
            "Epoch 63/100\n",
            "3/3 [==============================] - 0s 28ms/step - loss: 0.0614 - accuracy: 0.9750 - val_loss: 0.1379 - val_accuracy: 0.9000\n",
            "Epoch 64/100\n",
            "3/3 [==============================] - 0s 28ms/step - loss: 0.0479 - accuracy: 1.0000 - val_loss: 0.1508 - val_accuracy: 0.9500\n",
            "Epoch 65/100\n",
            "3/3 [==============================] - 0s 27ms/step - loss: 0.0536 - accuracy: 0.9875 - val_loss: 0.1331 - val_accuracy: 0.9500\n",
            "Epoch 66/100\n",
            "3/3 [==============================] - 0s 28ms/step - loss: 0.0562 - accuracy: 0.9875 - val_loss: 0.1386 - val_accuracy: 0.9000\n",
            "Epoch 67/100\n",
            "3/3 [==============================] - 0s 39ms/step - loss: 0.0476 - accuracy: 0.9875 - val_loss: 0.1310 - val_accuracy: 0.9500\n",
            "Epoch 68/100\n",
            "3/3 [==============================] - 0s 34ms/step - loss: 0.0603 - accuracy: 0.9750 - val_loss: 0.1446 - val_accuracy: 0.9500\n",
            "Epoch 69/100\n",
            "3/3 [==============================] - 0s 28ms/step - loss: 0.0551 - accuracy: 0.9875 - val_loss: 0.1443 - val_accuracy: 0.9500\n",
            "Epoch 70/100\n",
            "3/3 [==============================] - 0s 28ms/step - loss: 0.0455 - accuracy: 0.9875 - val_loss: 0.1314 - val_accuracy: 0.9500\n",
            "Epoch 71/100\n",
            "3/3 [==============================] - 0s 28ms/step - loss: 0.0482 - accuracy: 1.0000 - val_loss: 0.1317 - val_accuracy: 0.9500\n",
            "Epoch 72/100\n",
            "3/3 [==============================] - 0s 28ms/step - loss: 0.0282 - accuracy: 1.0000 - val_loss: 0.1397 - val_accuracy: 0.9000\n",
            "Epoch 73/100\n",
            "3/3 [==============================] - 0s 28ms/step - loss: 0.0256 - accuracy: 1.0000 - val_loss: 0.1562 - val_accuracy: 0.9500\n",
            "Epoch 74/100\n",
            "3/3 [==============================] - 0s 27ms/step - loss: 0.0389 - accuracy: 0.9875 - val_loss: 0.1223 - val_accuracy: 0.9500\n",
            "Epoch 75/100\n",
            "3/3 [==============================] - 0s 28ms/step - loss: 0.0473 - accuracy: 0.9875 - val_loss: 0.1367 - val_accuracy: 0.9500\n",
            "Epoch 76/100\n",
            "3/3 [==============================] - 0s 28ms/step - loss: 0.0392 - accuracy: 0.9875 - val_loss: 0.1302 - val_accuracy: 0.9000\n",
            "Epoch 77/100\n",
            "3/3 [==============================] - 0s 28ms/step - loss: 0.0650 - accuracy: 0.9750 - val_loss: 0.1380 - val_accuracy: 0.9000\n",
            "Epoch 78/100\n",
            "3/3 [==============================] - 0s 28ms/step - loss: 0.0302 - accuracy: 1.0000 - val_loss: 0.1224 - val_accuracy: 0.9500\n",
            "Epoch 79/100\n",
            "3/3 [==============================] - 0s 29ms/step - loss: 0.0275 - accuracy: 1.0000 - val_loss: 0.1331 - val_accuracy: 0.9500\n",
            "Epoch 80/100\n",
            "3/3 [==============================] - 0s 28ms/step - loss: 0.0319 - accuracy: 1.0000 - val_loss: 0.1245 - val_accuracy: 0.9500\n",
            "Epoch 81/100\n",
            "3/3 [==============================] - 0s 30ms/step - loss: 0.0197 - accuracy: 1.0000 - val_loss: 0.1213 - val_accuracy: 0.9000\n",
            "Epoch 82/100\n",
            "3/3 [==============================] - 0s 28ms/step - loss: 0.0188 - accuracy: 1.0000 - val_loss: 0.1274 - val_accuracy: 0.9000\n",
            "Epoch 83/100\n",
            "3/3 [==============================] - 0s 28ms/step - loss: 0.0308 - accuracy: 0.9875 - val_loss: 0.1184 - val_accuracy: 0.9500\n",
            "Epoch 84/100\n",
            "3/3 [==============================] - 0s 28ms/step - loss: 0.0172 - accuracy: 1.0000 - val_loss: 0.1345 - val_accuracy: 0.9500\n",
            "Epoch 85/100\n",
            "3/3 [==============================] - 0s 28ms/step - loss: 0.0325 - accuracy: 0.9875 - val_loss: 0.1249 - val_accuracy: 0.9500\n",
            "Epoch 86/100\n",
            "3/3 [==============================] - 0s 28ms/step - loss: 0.0147 - accuracy: 1.0000 - val_loss: 0.1186 - val_accuracy: 0.9000\n",
            "Epoch 87/100\n",
            "3/3 [==============================] - 0s 27ms/step - loss: 0.0380 - accuracy: 0.9875 - val_loss: 0.1142 - val_accuracy: 0.9500\n",
            "Epoch 88/100\n",
            "3/3 [==============================] - 0s 28ms/step - loss: 0.0197 - accuracy: 1.0000 - val_loss: 0.1706 - val_accuracy: 0.9500\n",
            "Epoch 89/100\n",
            "3/3 [==============================] - 0s 28ms/step - loss: 0.0619 - accuracy: 0.9750 - val_loss: 0.1083 - val_accuracy: 0.9500\n",
            "Epoch 90/100\n",
            "3/3 [==============================] - 0s 28ms/step - loss: 0.0448 - accuracy: 0.9875 - val_loss: 0.1244 - val_accuracy: 0.9000\n",
            "Epoch 91/100\n",
            "3/3 [==============================] - 0s 28ms/step - loss: 0.0296 - accuracy: 0.9875 - val_loss: 0.1086 - val_accuracy: 0.9500\n",
            "Epoch 92/100\n",
            "3/3 [==============================] - 0s 28ms/step - loss: 0.0141 - accuracy: 1.0000 - val_loss: 0.1133 - val_accuracy: 0.9500\n",
            "Epoch 93/100\n",
            "3/3 [==============================] - 0s 27ms/step - loss: 0.0310 - accuracy: 1.0000 - val_loss: 0.1079 - val_accuracy: 0.9000\n",
            "Epoch 94/100\n",
            "3/3 [==============================] - 0s 28ms/step - loss: 0.0251 - accuracy: 0.9875 - val_loss: 0.1115 - val_accuracy: 0.9000\n",
            "Epoch 95/100\n",
            "3/3 [==============================] - 0s 26ms/step - loss: 0.0188 - accuracy: 1.0000 - val_loss: 0.1082 - val_accuracy: 0.9500\n",
            "Epoch 96/100\n",
            "3/3 [==============================] - 0s 27ms/step - loss: 0.0266 - accuracy: 0.9875 - val_loss: 0.1204 - val_accuracy: 0.9500\n",
            "Epoch 97/100\n",
            "3/3 [==============================] - 0s 28ms/step - loss: 0.0139 - accuracy: 1.0000 - val_loss: 0.1201 - val_accuracy: 0.9500\n",
            "Epoch 98/100\n",
            "3/3 [==============================] - 0s 28ms/step - loss: 0.0136 - accuracy: 1.0000 - val_loss: 0.1153 - val_accuracy: 0.9500\n",
            "Epoch 99/100\n",
            "3/3 [==============================] - 0s 28ms/step - loss: 0.0075 - accuracy: 1.0000 - val_loss: 0.1156 - val_accuracy: 0.9500\n",
            "Epoch 100/100\n",
            "3/3 [==============================] - 0s 28ms/step - loss: 0.0109 - accuracy: 1.0000 - val_loss: 0.1157 - val_accuracy: 0.9500\n"
          ]
        }
      ],
      "source": [
        "H = model.fit(x_train, y_train, validation_data=(x_test, y_test), \n",
        "          epochs=max_epochs, batch_size=32)"
      ]
    },
    {
      "cell_type": "code",
      "execution_count": 204,
      "metadata": {
        "colab": {
          "base_uri": "https://localhost:8080/",
          "height": 284
        },
        "id": "dAkUP4rmsKSt",
        "outputId": "5a835e5e-7ba4-4698-be98-65efcb5b8f69"
      },
      "outputs": [
        {
          "data": {
            "image/png": "[encoded data removed]",
            "text/plain": [
              "<Figure size 432x288 with 1 Axes>"
            ]
          },
          "metadata": {},
          "output_type": "display_data"
        }
      ],
      "source": [
        "N = np.arange(0, max_epochs)\n",
        "plt.style.use(\"ggplot\")\n",
        "plt.figure()\n",
        "plt.plot(N, H.history[\"loss\"], label=\"train_loss\")\n",
        "plt.plot(N, H.history[\"val_loss\"], label=\"val_loss\")\n",
        "#plt.plot(N, H.history[\"accuracy\"], label=\"train_acc\")\n",
        "#plt.plot(N, H.history[\"val_accuracy\"], label=\"val_acc\")\n",
        "plt.xlabel(\"Epoch #\")\n",
        "plt.legend()\n",
        "plt.show()"
      ]
    },
    {
      "cell_type": "markdown",
      "metadata": {
        "id": "8QVxINO9sKSu"
      },
      "source": [
        "<h3>7. Evaluate the Model</h3>"
      ]
    },
    {
      "cell_type": "code",
      "execution_count": 205,
      "metadata": {
        "colab": {
          "base_uri": "https://localhost:8080/"
        },
        "id": "DC4t0-fDsKSu",
        "outputId": "93cbe8aa-1152-43bf-a413-1a0cbd3dacec"
      },
      "outputs": [
        {
          "name": "stdout",
          "output_type": "stream",
          "text": [
            "              precision    recall  f1-score   support\n",
            "\n",
            " Jeruk Nipis       0.92      1.00      0.96        12\n",
            "       Sirih       1.00      0.88      0.93         8\n",
            "\n",
            "    accuracy                           0.95        20\n",
            "   macro avg       0.96      0.94      0.95        20\n",
            "weighted avg       0.95      0.95      0.95        20\n",
            "\n"
          ]
        }
      ],
      "source": [
        "# menghitung nilai akurasi model terhadap data test\n",
        "predictions = model.predict(x_test, batch_size=32)\n",
        "target = (predictions > 0.5).astype(np.int64)\n",
        "print(classification_report(y_test, target, target_names=label_list))"
      ]
    },
    {
      "cell_type": "code",
      "execution_count": 206,
      "metadata": {
        "colab": {
          "base_uri": "https://localhost:8080/"
        },
        "id": "nLiQ72X5sKSu",
        "outputId": "691007c4-4210-44e1-d6a1-106a1f3f4b4c"
      },
      "outputs": [
        {
          "name": "stdout",
          "output_type": "stream",
          "text": [
            "[[0.9999513]]\n"
          ]
        }
      ],
      "source": [
        "# uji model menggunakan image lain\n",
        "queryPath = imagePaths+'query_sirih.jpg'\n",
        "query = cv2.imread(queryPath)\n",
        "output = query.copy()\n",
        "query = cv2.resize(query, (32, 32))\n",
        "q = []\n",
        "q.append(query)\n",
        "q = np.array(q, dtype='float') / 255.0\n",
        "\n",
        "q_pred = model.predict(q)\n",
        "print(q_pred)"
      ]
    },
    {
      "cell_type": "code",
      "execution_count": 207,
      "metadata": {
        "colab": {
          "base_uri": "https://localhost:8080/",
          "height": 1000
        },
        "id": "P60kDMLAsKSv",
        "outputId": "30096413-92e1-450b-f05f-b438adc78baf"
      },
      "outputs": [
        {
          "data": {
            "text/plain": [
              "<matplotlib.image.AxesImage at 0x26820fa8640>"
            ]
          },
          "execution_count": 207,
          "metadata": {},
          "output_type": "execute_result"
        },
        {
          "data": {
            "image/png": "[encoded data removed]",
            "text/plain": [
              "<Figure size 432x288 with 1 Axes>"
            ]
          },
          "metadata": {},
          "output_type": "display_data"
        }
      ],
      "source": [
        "if q_pred<=0.5 :\n",
        "    target = \"Jeruk Nipis\"\n",
        "else :\n",
        "    target = \"Sirih\"\n",
        "text = \"{}\".format(target)\n",
        "cv2.putText(output, text, (20, 250), cv2.FONT_HERSHEY_SIMPLEX, 10, (0, 0, 255), 2)\n",
        " \n",
        "# menampilkan output image\n",
        "cv2_plt_imshow(output)"
      ]
    },
    {
      "cell_type": "code",
      "execution_count": null,
      "metadata": {
        "id": "yn0Ay4ErsKSv"
      },
      "outputs": [],
      "source": []
    }
  ],
  "metadata": {
    "colab": {
      "name": "Image Classification using CNN.ipynb",
      "provenance": []
    },
    "kernelspec": {
      "display_name": "Python 3",
      "language": "python",
      "name": "python3"
    },
    "language_info": {
      "codemirror_mode": {
        "name": "ipython",
        "version": 3
      },
      "file_extension": ".py",
      "mimetype": "text/x-python",
      "name": "python",
      "nbconvert_exporter": "python",
      "pygments_lexer": "ipython3",
      "version": "3.9.7"
    }
  },
  "nbformat": 4,
  "nbformat_minor": 0
}
