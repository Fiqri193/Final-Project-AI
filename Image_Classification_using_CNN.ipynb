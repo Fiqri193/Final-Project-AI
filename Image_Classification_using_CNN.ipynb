{
  "cells": [
    {
      "cell_type": "markdown",
      "metadata": {
        "id": "w5TdCVHesKSk"
      },
      "source": [
        "<h3>1. Import module yang dibutuhkan</h3>"
      ]
    },
    {
      "cell_type": "code",
      "execution_count": 2,
      "metadata": {
        "id": "oo7eByuosKSm"
      },
      "outputs": [],
      "source": [
        "from sklearn.model_selection import train_test_split\n",
        "from sklearn.preprocessing import LabelEncoder\n",
        "from sklearn.metrics import classification_report\n",
        "from tensorflow.keras.models import Sequential\n",
        "from tensorflow.keras.layers import InputLayer, Flatten, Dense, Conv2D, MaxPool2D, Dropout\n",
        "from tensorflow.keras.optimizers import Adam\n",
        "from cv2_plt_imshow import cv2_plt_imshow\n",
        "import numpy as np\n",
        "import cv2\n",
        "import glob\n",
        "import matplotlib.pyplot as plt"
      ]
    },
    {
      "cell_type": "markdown",
      "metadata": {
        "id": "LyqN3AoZsKSo"
      },
      "source": [
        "<h3>2. Load Dataset</h3>"
      ]
    },
    {
      "cell_type": "code",
      "execution_count": 3,
      "metadata": {
        "id": "ej_PGdWPsKSo"
      },
      "outputs": [],
      "source": [
        "imagePaths = 'Dataset/'\n",
        "label_list = ['Jeruk Nipis', 'Sirih']\n",
        "data = []\n",
        "labels = []"
      ]
    },
    {
      "cell_type": "code",
      "execution_count": 4,
      "metadata": {
        "id": "4SM24FIvsKSo"
      },
      "outputs": [],
      "source": [
        "for label in label_list:\n",
        "    for imagePath in glob.glob(imagePaths+label+'/*.jpg'):\n",
        "        #print(imagePath)\n",
        "        image = cv2.imread(imagePath)\n",
        "        image = cv2.resize(image, (32, 32))\n",
        "        data.append(image)\n",
        "        labels.append(label)"
      ]
    },
    {
      "cell_type": "code",
      "execution_count": 5,
      "metadata": {
        "colab": {
          "base_uri": "https://localhost:8080/"
        },
        "id": "Ag-WQ_bBsKSp",
        "outputId": "e5ba73bd-4b17-41c4-bec5-71d288c1a75c"
      },
      "outputs": [
        {
          "data": {
            "text/plain": [
              "(100, 32, 32, 3)"
            ]
          },
          "execution_count": 5,
          "metadata": {},
          "output_type": "execute_result"
        }
      ],
      "source": [
        "np.array(data).shape"
      ]
    },
    {
      "cell_type": "markdown",
      "metadata": {
        "id": "70gEjh8IsKSp"
      },
      "source": [
        "<h3>3. Data Preprocessing</h3>"
      ]
    },
    {
      "cell_type": "code",
      "execution_count": 6,
      "metadata": {
        "id": "yUrdtKgksKSp"
      },
      "outputs": [],
      "source": [
        "# ubah type data dari list menjadi array\n",
        "# ubah nilai dari tiap pixel menjadi range [0..1]\n",
        "data = np.array(data, dtype='float') / 255.0\n",
        "labels = np.array(labels)"
      ]
    },
    {
      "cell_type": "code",
      "execution_count": 7,
      "metadata": {
        "colab": {
          "base_uri": "https://localhost:8080/"
        },
        "id": "4yxcPodJsKSq",
        "outputId": "ab442104-42a2-4174-d733-406b60bae56c"
      },
      "outputs": [
        {
          "name": "stdout",
          "output_type": "stream",
          "text": [
            "['Jeruk Nipis' 'Jeruk Nipis' 'Jeruk Nipis' 'Jeruk Nipis' 'Jeruk Nipis'\n",
            " 'Jeruk Nipis' 'Jeruk Nipis' 'Jeruk Nipis' 'Jeruk Nipis' 'Jeruk Nipis'\n",
            " 'Jeruk Nipis' 'Jeruk Nipis' 'Jeruk Nipis' 'Jeruk Nipis' 'Jeruk Nipis'\n",
            " 'Jeruk Nipis' 'Jeruk Nipis' 'Jeruk Nipis' 'Jeruk Nipis' 'Jeruk Nipis'\n",
            " 'Jeruk Nipis' 'Jeruk Nipis' 'Jeruk Nipis' 'Jeruk Nipis' 'Jeruk Nipis'\n",
            " 'Jeruk Nipis' 'Jeruk Nipis' 'Jeruk Nipis' 'Jeruk Nipis' 'Jeruk Nipis'\n",
            " 'Jeruk Nipis' 'Jeruk Nipis' 'Jeruk Nipis' 'Jeruk Nipis' 'Jeruk Nipis'\n",
            " 'Jeruk Nipis' 'Jeruk Nipis' 'Jeruk Nipis' 'Jeruk Nipis' 'Jeruk Nipis'\n",
            " 'Jeruk Nipis' 'Jeruk Nipis' 'Jeruk Nipis' 'Jeruk Nipis' 'Jeruk Nipis'\n",
            " 'Jeruk Nipis' 'Jeruk Nipis' 'Jeruk Nipis' 'Jeruk Nipis' 'Jeruk Nipis'\n",
            " 'Sirih' 'Sirih' 'Sirih' 'Sirih' 'Sirih' 'Sirih' 'Sirih' 'Sirih' 'Sirih'\n",
            " 'Sirih' 'Sirih' 'Sirih' 'Sirih' 'Sirih' 'Sirih' 'Sirih' 'Sirih' 'Sirih'\n",
            " 'Sirih' 'Sirih' 'Sirih' 'Sirih' 'Sirih' 'Sirih' 'Sirih' 'Sirih' 'Sirih'\n",
            " 'Sirih' 'Sirih' 'Sirih' 'Sirih' 'Sirih' 'Sirih' 'Sirih' 'Sirih' 'Sirih'\n",
            " 'Sirih' 'Sirih' 'Sirih' 'Sirih' 'Sirih' 'Sirih' 'Sirih' 'Sirih' 'Sirih'\n",
            " 'Sirih' 'Sirih' 'Sirih' 'Sirih' 'Sirih']\n"
          ]
        }
      ],
      "source": [
        "print(labels)"
      ]
    },
    {
      "cell_type": "code",
      "execution_count": 8,
      "metadata": {
        "colab": {
          "base_uri": "https://localhost:8080/"
        },
        "id": "271gkDdysKSq",
        "outputId": "bf302a13-eba5-40cb-997f-95162ac9fe68"
      },
      "outputs": [
        {
          "name": "stdout",
          "output_type": "stream",
          "text": [
            "[0 0 0 0 0 0 0 0 0 0 0 0 0 0 0 0 0 0 0 0 0 0 0 0 0 0 0 0 0 0 0 0 0 0 0 0 0\n",
            " 0 0 0 0 0 0 0 0 0 0 0 0 0 1 1 1 1 1 1 1 1 1 1 1 1 1 1 1 1 1 1 1 1 1 1 1 1\n",
            " 1 1 1 1 1 1 1 1 1 1 1 1 1 1 1 1 1 1 1 1 1 1 1 1 1 1]\n"
          ]
        }
      ],
      "source": [
        "# ubah nilai dari labels menjadi binary\n",
        "lb = LabelEncoder()\n",
        "labels = lb.fit_transform(labels)\n",
        "print(labels)"
      ]
    },
    {
      "cell_type": "markdown",
      "metadata": {
        "id": "ibcLpKt4sKSq"
      },
      "source": [
        "<h3>4. Split Dataset</h3>"
      ]
    },
    {
      "cell_type": "code",
      "execution_count": 9,
      "metadata": {
        "id": "sqy6pMbisKSq"
      },
      "outputs": [],
      "source": [
        "x_train, x_test, y_train, y_test = train_test_split(data, labels, test_size=0.2, random_state=42)"
      ]
    },
    {
      "cell_type": "code",
      "execution_count": 10,
      "metadata": {
        "colab": {
          "base_uri": "https://localhost:8080/"
        },
        "id": "16CfxvYKsKSr",
        "outputId": "7d21e85d-1e06-4e6d-c27f-4a0f2eec2b32"
      },
      "outputs": [
        {
          "name": "stdout",
          "output_type": "stream",
          "text": [
            "Ukuran data train = (80, 32, 32, 3)\n",
            "Ukuran data test = (20, 32, 32, 3)\n"
          ]
        }
      ],
      "source": [
        "print('Ukuran data train =', x_train.shape)\n",
        "print('Ukuran data test =', x_test.shape)"
      ]
    },
    {
      "cell_type": "markdown",
      "metadata": {
        "id": "rVll2y0xsKSr"
      },
      "source": [
        "<h3>5. Build CNN Architecture</h3>"
      ]
    },
    {
      "cell_type": "code",
      "execution_count": 11,
      "metadata": {
        "id": "v4zCF7BfsKSr"
      },
      "outputs": [],
      "source": [
        "model = Sequential()\n",
        "# Extracted Feature Layer\n",
        "model.add(InputLayer(input_shape=[32,32,3]))\n",
        "model.add(Conv2D(filters=32, kernel_size=2, strides=1, padding='same', activation='relu'))\n",
        "model.add(MaxPool2D(pool_size=2, padding='same'))\n",
        "model.add(Conv2D(filters=50, kernel_size=2, strides=1, padding='same', activation='relu'))\n",
        "model.add(MaxPool2D(pool_size=2, padding='same'))\n",
        "model.add(Dropout(0.25))\n",
        "model.add(Flatten())\n",
        "# Fully Connected Layer\n",
        "model.add(Dense(512, activation='relu'))\n",
        "model.add(Dropout(0.5))\n",
        "model.add(Dense(1, activation='sigmoid'))"
      ]
    },
    {
      "cell_type": "code",
      "execution_count": 12,
      "metadata": {
        "colab": {
          "base_uri": "https://localhost:8080/"
        },
        "id": "zYe_spQssKSs",
        "outputId": "657ae6b1-e755-495f-bb1f-fe87bc8ce0a7"
      },
      "outputs": [
        {
          "name": "stdout",
          "output_type": "stream",
          "text": [
            "Model: \"sequential\"\n",
            "_________________________________________________________________\n",
            " Layer (type)                Output Shape              Param #   \n",
            "=================================================================\n",
            " conv2d (Conv2D)             (None, 32, 32, 32)        416       \n",
            "                                                                 \n",
            " max_pooling2d (MaxPooling2D  (None, 16, 16, 32)       0         \n",
            " )                                                               \n",
            "                                                                 \n",
            " conv2d_1 (Conv2D)           (None, 16, 16, 50)        6450      \n",
            "                                                                 \n",
            " max_pooling2d_1 (MaxPooling  (None, 8, 8, 50)         0         \n",
            " 2D)                                                             \n",
            "                                                                 \n",
            " dropout (Dropout)           (None, 8, 8, 50)          0         \n",
            "                                                                 \n",
            " flatten (Flatten)           (None, 3200)              0         \n",
            "                                                                 \n",
            " dense (Dense)               (None, 512)               1638912   \n",
            "                                                                 \n",
            " dropout_1 (Dropout)         (None, 512)               0         \n",
            "                                                                 \n",
            " dense_1 (Dense)             (None, 1)                 513       \n",
            "                                                                 \n",
            "=================================================================\n",
            "Total params: 1,646,291\n",
            "Trainable params: 1,646,291\n",
            "Non-trainable params: 0\n",
            "_________________________________________________________________\n"
          ]
        }
      ],
      "source": [
        "model.summary()"
      ]
    },
    {
      "cell_type": "code",
      "execution_count": 13,
      "metadata": {
        "id": "c1O7Dz3zsKSs"
      },
      "outputs": [],
      "source": [
        "# tentukan hyperparameter\n",
        "lr = 0.001\n",
        "max_epochs = 100\n",
        "opt_funct = Adam(learning_rate=lr)"
      ]
    },
    {
      "cell_type": "code",
      "execution_count": 14,
      "metadata": {
        "id": "7jEQAKCusKSs"
      },
      "outputs": [],
      "source": [
        "# compile arsitektur yang telah dibuat\n",
        "model.compile(loss = 'binary_crossentropy', \n",
        "              optimizer = opt_funct, \n",
        "              metrics = ['accuracy'])"
      ]
    },
    {
      "cell_type": "markdown",
      "metadata": {
        "id": "42_8cy_ksKSt"
      },
      "source": [
        "<h3>6. Train Model</h3>"
      ]
    },
    {
      "cell_type": "code",
      "execution_count": 15,
      "metadata": {
        "colab": {
          "base_uri": "https://localhost:8080/"
        },
        "id": "TkCmK397sKSt",
        "outputId": "78661837-6579-48fb-ce77-420742c2d8b7"
      },
      "outputs": [
        {
          "name": "stdout",
          "output_type": "stream",
          "text": [
            "Epoch 1/100\n",
            "3/3 [==============================] - 1s 188ms/step - loss: 0.9910 - accuracy: 0.4625 - val_loss: 1.3523 - val_accuracy: 0.4000\n",
            "Epoch 2/100\n",
            "3/3 [==============================] - 0s 58ms/step - loss: 0.9685 - accuracy: 0.5250 - val_loss: 0.7685 - val_accuracy: 0.4000\n",
            "Epoch 3/100\n",
            "3/3 [==============================] - 0s 57ms/step - loss: 0.6577 - accuracy: 0.6250 - val_loss: 0.6719 - val_accuracy: 0.6000\n",
            "Epoch 4/100\n",
            "3/3 [==============================] - 0s 56ms/step - loss: 0.7493 - accuracy: 0.4750 - val_loss: 0.6721 - val_accuracy: 0.6000\n",
            "Epoch 5/100\n",
            "3/3 [==============================] - 0s 70ms/step - loss: 0.7253 - accuracy: 0.4625 - val_loss: 0.6728 - val_accuracy: 0.6000\n",
            "Epoch 6/100\n",
            "3/3 [==============================] - 0s 79ms/step - loss: 0.6934 - accuracy: 0.5125 - val_loss: 0.6896 - val_accuracy: 0.6000\n",
            "Epoch 7/100\n",
            "3/3 [==============================] - 0s 70ms/step - loss: 0.6869 - accuracy: 0.5375 - val_loss: 0.7066 - val_accuracy: 0.4000\n",
            "Epoch 8/100\n",
            "3/3 [==============================] - 0s 72ms/step - loss: 0.6799 - accuracy: 0.5500 - val_loss: 0.7128 - val_accuracy: 0.4000\n",
            "Epoch 9/100\n",
            "3/3 [==============================] - 0s 76ms/step - loss: 0.6750 - accuracy: 0.5250 - val_loss: 0.7077 - val_accuracy: 0.4000\n",
            "Epoch 10/100\n",
            "3/3 [==============================] - 0s 77ms/step - loss: 0.6665 - accuracy: 0.5250 - val_loss: 0.7064 - val_accuracy: 0.4000\n",
            "Epoch 11/100\n",
            "3/3 [==============================] - 0s 68ms/step - loss: 0.6632 - accuracy: 0.5500 - val_loss: 0.6950 - val_accuracy: 0.4500\n",
            "Epoch 12/100\n",
            "3/3 [==============================] - 0s 64ms/step - loss: 0.6450 - accuracy: 0.6750 - val_loss: 0.6805 - val_accuracy: 0.6000\n",
            "Epoch 13/100\n",
            "3/3 [==============================] - 0s 61ms/step - loss: 0.6337 - accuracy: 0.7375 - val_loss: 0.6594 - val_accuracy: 0.6500\n",
            "Epoch 14/100\n",
            "3/3 [==============================] - 0s 60ms/step - loss: 0.6270 - accuracy: 0.7375 - val_loss: 0.6516 - val_accuracy: 0.6500\n",
            "Epoch 15/100\n",
            "3/3 [==============================] - 0s 76ms/step - loss: 0.6269 - accuracy: 0.6875 - val_loss: 0.6691 - val_accuracy: 0.6000\n",
            "Epoch 16/100\n",
            "3/3 [==============================] - 0s 61ms/step - loss: 0.5809 - accuracy: 0.7875 - val_loss: 0.6157 - val_accuracy: 0.7000\n",
            "Epoch 17/100\n",
            "3/3 [==============================] - 0s 60ms/step - loss: 0.5734 - accuracy: 0.8250 - val_loss: 0.6049 - val_accuracy: 0.6500\n",
            "Epoch 18/100\n",
            "3/3 [==============================] - 0s 57ms/step - loss: 0.5651 - accuracy: 0.7750 - val_loss: 0.5722 - val_accuracy: 0.7500\n",
            "Epoch 19/100\n",
            "3/3 [==============================] - 0s 57ms/step - loss: 0.5620 - accuracy: 0.7250 - val_loss: 0.5749 - val_accuracy: 0.7000\n",
            "Epoch 20/100\n",
            "3/3 [==============================] - 0s 80ms/step - loss: 0.5614 - accuracy: 0.7375 - val_loss: 0.5812 - val_accuracy: 0.7000\n",
            "Epoch 21/100\n",
            "3/3 [==============================] - 0s 74ms/step - loss: 0.4747 - accuracy: 0.8625 - val_loss: 0.5281 - val_accuracy: 0.8000\n",
            "Epoch 22/100\n",
            "3/3 [==============================] - 0s 66ms/step - loss: 0.4864 - accuracy: 0.8375 - val_loss: 0.5310 - val_accuracy: 0.7500\n",
            "Epoch 23/100\n",
            "3/3 [==============================] - 0s 64ms/step - loss: 0.4688 - accuracy: 0.8125 - val_loss: 0.5098 - val_accuracy: 0.8000\n",
            "Epoch 24/100\n",
            "3/3 [==============================] - 0s 66ms/step - loss: 0.4223 - accuracy: 0.8500 - val_loss: 0.4573 - val_accuracy: 0.8000\n",
            "Epoch 25/100\n",
            "3/3 [==============================] - 0s 78ms/step - loss: 0.4209 - accuracy: 0.8750 - val_loss: 0.4956 - val_accuracy: 0.8000\n",
            "Epoch 26/100\n",
            "3/3 [==============================] - 0s 62ms/step - loss: 0.4274 - accuracy: 0.8125 - val_loss: 0.4500 - val_accuracy: 0.8500\n",
            "Epoch 27/100\n",
            "3/3 [==============================] - 0s 67ms/step - loss: 0.3588 - accuracy: 0.8750 - val_loss: 0.4309 - val_accuracy: 0.8500\n",
            "Epoch 28/100\n",
            "3/3 [==============================] - 0s 62ms/step - loss: 0.3474 - accuracy: 0.9000 - val_loss: 0.3977 - val_accuracy: 0.8500\n",
            "Epoch 29/100\n",
            "3/3 [==============================] - 0s 72ms/step - loss: 0.3143 - accuracy: 0.8750 - val_loss: 0.4232 - val_accuracy: 0.8500\n",
            "Epoch 30/100\n",
            "3/3 [==============================] - 0s 68ms/step - loss: 0.3469 - accuracy: 0.8500 - val_loss: 0.3439 - val_accuracy: 0.8500\n",
            "Epoch 31/100\n",
            "3/3 [==============================] - 0s 62ms/step - loss: 0.2767 - accuracy: 0.9250 - val_loss: 0.3447 - val_accuracy: 0.9000\n",
            "Epoch 32/100\n",
            "3/3 [==============================] - 0s 70ms/step - loss: 0.2501 - accuracy: 0.9125 - val_loss: 0.3864 - val_accuracy: 0.8500\n",
            "Epoch 33/100\n",
            "3/3 [==============================] - 0s 83ms/step - loss: 0.2640 - accuracy: 0.8875 - val_loss: 0.3152 - val_accuracy: 0.9000\n",
            "Epoch 34/100\n",
            "3/3 [==============================] - 0s 69ms/step - loss: 0.2659 - accuracy: 0.9125 - val_loss: 0.2818 - val_accuracy: 0.8500\n",
            "Epoch 35/100\n",
            "3/3 [==============================] - 0s 60ms/step - loss: 0.2489 - accuracy: 0.9375 - val_loss: 0.3156 - val_accuracy: 0.9000\n",
            "Epoch 36/100\n",
            "3/3 [==============================] - 0s 71ms/step - loss: 0.2101 - accuracy: 0.9500 - val_loss: 0.2679 - val_accuracy: 0.9000\n",
            "Epoch 37/100\n",
            "3/3 [==============================] - 0s 63ms/step - loss: 0.1784 - accuracy: 0.9750 - val_loss: 0.2359 - val_accuracy: 0.9000\n",
            "Epoch 38/100\n",
            "3/3 [==============================] - 0s 65ms/step - loss: 0.2006 - accuracy: 0.9375 - val_loss: 0.2298 - val_accuracy: 0.8500\n",
            "Epoch 39/100\n",
            "3/3 [==============================] - 0s 66ms/step - loss: 0.1883 - accuracy: 0.9375 - val_loss: 0.3185 - val_accuracy: 0.8500\n",
            "Epoch 40/100\n",
            "3/3 [==============================] - 0s 65ms/step - loss: 0.1717 - accuracy: 0.9250 - val_loss: 0.2206 - val_accuracy: 0.8500\n",
            "Epoch 41/100\n",
            "3/3 [==============================] - 0s 59ms/step - loss: 0.2305 - accuracy: 0.9125 - val_loss: 0.2240 - val_accuracy: 0.8500\n",
            "Epoch 42/100\n",
            "3/3 [==============================] - 0s 63ms/step - loss: 0.2058 - accuracy: 0.9125 - val_loss: 0.2433 - val_accuracy: 0.8500\n",
            "Epoch 43/100\n",
            "3/3 [==============================] - 0s 62ms/step - loss: 0.1509 - accuracy: 0.9625 - val_loss: 0.2331 - val_accuracy: 0.8500\n",
            "Epoch 44/100\n",
            "3/3 [==============================] - 0s 65ms/step - loss: 0.1356 - accuracy: 0.9500 - val_loss: 0.1927 - val_accuracy: 0.9500\n",
            "Epoch 45/100\n",
            "3/3 [==============================] - 0s 64ms/step - loss: 0.1456 - accuracy: 0.9750 - val_loss: 0.2020 - val_accuracy: 0.8500\n",
            "Epoch 46/100\n",
            "3/3 [==============================] - 0s 58ms/step - loss: 0.1089 - accuracy: 0.9750 - val_loss: 0.1892 - val_accuracy: 0.8500\n",
            "Epoch 47/100\n",
            "3/3 [==============================] - 0s 53ms/step - loss: 0.1120 - accuracy: 0.9750 - val_loss: 0.1760 - val_accuracy: 0.9500\n",
            "Epoch 48/100\n",
            "3/3 [==============================] - 0s 65ms/step - loss: 0.1021 - accuracy: 0.9625 - val_loss: 0.2024 - val_accuracy: 0.9000\n",
            "Epoch 49/100\n",
            "3/3 [==============================] - 0s 68ms/step - loss: 0.1117 - accuracy: 0.9500 - val_loss: 0.2248 - val_accuracy: 0.9000\n",
            "Epoch 50/100\n",
            "3/3 [==============================] - 0s 57ms/step - loss: 0.1285 - accuracy: 0.9625 - val_loss: 0.1875 - val_accuracy: 0.9500\n",
            "Epoch 51/100\n",
            "3/3 [==============================] - 0s 64ms/step - loss: 0.1074 - accuracy: 0.9750 - val_loss: 0.1710 - val_accuracy: 0.9000\n",
            "Epoch 52/100\n",
            "3/3 [==============================] - 0s 63ms/step - loss: 0.0686 - accuracy: 0.9750 - val_loss: 0.1766 - val_accuracy: 0.8500\n",
            "Epoch 53/100\n",
            "3/3 [==============================] - 0s 59ms/step - loss: 0.1397 - accuracy: 0.9500 - val_loss: 0.1602 - val_accuracy: 0.9500\n",
            "Epoch 54/100\n",
            "3/3 [==============================] - 0s 63ms/step - loss: 0.0689 - accuracy: 1.0000 - val_loss: 0.1672 - val_accuracy: 0.8500\n",
            "Epoch 55/100\n",
            "3/3 [==============================] - 0s 59ms/step - loss: 0.0818 - accuracy: 0.9875 - val_loss: 0.1860 - val_accuracy: 0.9000\n",
            "Epoch 56/100\n",
            "3/3 [==============================] - 0s 60ms/step - loss: 0.0715 - accuracy: 0.9875 - val_loss: 0.2059 - val_accuracy: 0.9000\n",
            "Epoch 57/100\n",
            "3/3 [==============================] - 0s 66ms/step - loss: 0.0922 - accuracy: 0.9625 - val_loss: 0.1660 - val_accuracy: 0.9000\n",
            "Epoch 58/100\n",
            "3/3 [==============================] - 0s 60ms/step - loss: 0.0516 - accuracy: 0.9875 - val_loss: 0.1349 - val_accuracy: 0.9000\n",
            "Epoch 59/100\n",
            "3/3 [==============================] - 0s 56ms/step - loss: 0.0792 - accuracy: 0.9625 - val_loss: 0.1471 - val_accuracy: 0.9000\n",
            "Epoch 60/100\n",
            "3/3 [==============================] - 0s 57ms/step - loss: 0.0644 - accuracy: 1.0000 - val_loss: 0.1814 - val_accuracy: 0.9000\n",
            "Epoch 61/100\n",
            "3/3 [==============================] - 0s 58ms/step - loss: 0.0578 - accuracy: 0.9750 - val_loss: 0.1255 - val_accuracy: 0.9000\n",
            "Epoch 62/100\n",
            "3/3 [==============================] - 0s 57ms/step - loss: 0.0759 - accuracy: 0.9750 - val_loss: 0.1371 - val_accuracy: 0.9500\n",
            "Epoch 63/100\n",
            "3/3 [==============================] - 0s 67ms/step - loss: 0.0517 - accuracy: 1.0000 - val_loss: 0.1697 - val_accuracy: 0.9000\n",
            "Epoch 64/100\n",
            "3/3 [==============================] - 0s 71ms/step - loss: 0.0603 - accuracy: 0.9875 - val_loss: 0.1422 - val_accuracy: 0.9000\n",
            "Epoch 65/100\n",
            "3/3 [==============================] - 0s 70ms/step - loss: 0.0520 - accuracy: 0.9875 - val_loss: 0.1351 - val_accuracy: 0.9500\n",
            "Epoch 66/100\n",
            "3/3 [==============================] - 0s 65ms/step - loss: 0.0638 - accuracy: 0.9750 - val_loss: 0.1260 - val_accuracy: 0.9500\n",
            "Epoch 67/100\n",
            "3/3 [==============================] - 0s 68ms/step - loss: 0.0274 - accuracy: 1.0000 - val_loss: 0.1065 - val_accuracy: 0.9500\n",
            "Epoch 68/100\n",
            "3/3 [==============================] - 0s 64ms/step - loss: 0.0358 - accuracy: 1.0000 - val_loss: 0.0982 - val_accuracy: 0.9500\n",
            "Epoch 69/100\n",
            "3/3 [==============================] - 0s 66ms/step - loss: 0.0264 - accuracy: 1.0000 - val_loss: 0.0983 - val_accuracy: 0.9500\n",
            "Epoch 70/100\n",
            "3/3 [==============================] - 0s 65ms/step - loss: 0.0458 - accuracy: 0.9875 - val_loss: 0.1116 - val_accuracy: 0.9500\n",
            "Epoch 71/100\n",
            "3/3 [==============================] - 0s 60ms/step - loss: 0.0677 - accuracy: 0.9750 - val_loss: 0.1109 - val_accuracy: 0.9000\n",
            "Epoch 72/100\n",
            "3/3 [==============================] - 0s 65ms/step - loss: 0.0182 - accuracy: 1.0000 - val_loss: 0.1161 - val_accuracy: 0.9500\n",
            "Epoch 73/100\n",
            "3/3 [==============================] - 0s 66ms/step - loss: 0.0259 - accuracy: 1.0000 - val_loss: 0.1389 - val_accuracy: 0.9000\n",
            "Epoch 74/100\n",
            "3/3 [==============================] - 0s 66ms/step - loss: 0.0349 - accuracy: 1.0000 - val_loss: 0.1318 - val_accuracy: 0.9000\n",
            "Epoch 75/100\n",
            "3/3 [==============================] - 0s 66ms/step - loss: 0.0205 - accuracy: 1.0000 - val_loss: 0.1236 - val_accuracy: 0.9500\n",
            "Epoch 76/100\n",
            "3/3 [==============================] - 0s 74ms/step - loss: 0.0363 - accuracy: 1.0000 - val_loss: 0.1232 - val_accuracy: 0.9500\n",
            "Epoch 77/100\n",
            "3/3 [==============================] - 0s 72ms/step - loss: 0.0231 - accuracy: 1.0000 - val_loss: 0.1272 - val_accuracy: 0.9000\n",
            "Epoch 78/100\n",
            "3/3 [==============================] - 0s 70ms/step - loss: 0.0256 - accuracy: 1.0000 - val_loss: 0.1225 - val_accuracy: 0.9000\n",
            "Epoch 79/100\n",
            "3/3 [==============================] - 0s 64ms/step - loss: 0.0185 - accuracy: 1.0000 - val_loss: 0.1255 - val_accuracy: 0.9500\n",
            "Epoch 80/100\n",
            "3/3 [==============================] - 0s 59ms/step - loss: 0.0307 - accuracy: 1.0000 - val_loss: 0.1338 - val_accuracy: 0.9000\n",
            "Epoch 81/100\n",
            "3/3 [==============================] - 0s 61ms/step - loss: 0.0322 - accuracy: 0.9750 - val_loss: 0.2679 - val_accuracy: 0.9000\n",
            "Epoch 82/100\n",
            "3/3 [==============================] - 0s 59ms/step - loss: 0.0644 - accuracy: 0.9750 - val_loss: 0.1682 - val_accuracy: 0.9500\n",
            "Epoch 83/100\n",
            "3/3 [==============================] - 0s 60ms/step - loss: 0.0147 - accuracy: 1.0000 - val_loss: 0.1340 - val_accuracy: 0.9500\n",
            "Epoch 84/100\n",
            "3/3 [==============================] - 0s 65ms/step - loss: 0.0306 - accuracy: 1.0000 - val_loss: 0.1371 - val_accuracy: 0.9500\n",
            "Epoch 85/100\n",
            "3/3 [==============================] - 0s 60ms/step - loss: 0.0413 - accuracy: 0.9750 - val_loss: 0.1431 - val_accuracy: 0.9000\n",
            "Epoch 86/100\n",
            "3/3 [==============================] - 0s 64ms/step - loss: 0.0228 - accuracy: 1.0000 - val_loss: 0.1653 - val_accuracy: 0.9500\n",
            "Epoch 87/100\n",
            "3/3 [==============================] - 0s 64ms/step - loss: 0.0355 - accuracy: 0.9875 - val_loss: 0.1271 - val_accuracy: 0.9500\n",
            "Epoch 88/100\n",
            "3/3 [==============================] - 0s 59ms/step - loss: 0.0340 - accuracy: 0.9875 - val_loss: 0.1358 - val_accuracy: 0.9500\n",
            "Epoch 89/100\n",
            "3/3 [==============================] - 0s 67ms/step - loss: 0.0184 - accuracy: 1.0000 - val_loss: 0.1448 - val_accuracy: 0.9000\n",
            "Epoch 90/100\n",
            "3/3 [==============================] - 0s 69ms/step - loss: 0.0160 - accuracy: 1.0000 - val_loss: 0.1580 - val_accuracy: 0.9000\n",
            "Epoch 91/100\n",
            "3/3 [==============================] - 0s 55ms/step - loss: 0.0173 - accuracy: 1.0000 - val_loss: 0.1478 - val_accuracy: 0.9000\n",
            "Epoch 92/100\n",
            "3/3 [==============================] - 0s 59ms/step - loss: 0.0176 - accuracy: 1.0000 - val_loss: 0.1481 - val_accuracy: 0.9000\n",
            "Epoch 93/100\n",
            "3/3 [==============================] - 0s 65ms/step - loss: 0.0160 - accuracy: 1.0000 - val_loss: 0.1663 - val_accuracy: 0.9500\n",
            "Epoch 94/100\n",
            "3/3 [==============================] - 0s 64ms/step - loss: 0.0339 - accuracy: 0.9875 - val_loss: 0.1452 - val_accuracy: 0.9000\n",
            "Epoch 95/100\n",
            "3/3 [==============================] - 0s 59ms/step - loss: 0.0154 - accuracy: 1.0000 - val_loss: 0.1384 - val_accuracy: 0.9000\n",
            "Epoch 96/100\n",
            "3/3 [==============================] - 0s 59ms/step - loss: 0.0219 - accuracy: 1.0000 - val_loss: 0.1414 - val_accuracy: 0.9000\n",
            "Epoch 97/100\n",
            "3/3 [==============================] - 0s 61ms/step - loss: 0.0092 - accuracy: 1.0000 - val_loss: 0.1507 - val_accuracy: 0.9000\n",
            "Epoch 98/100\n",
            "3/3 [==============================] - 0s 63ms/step - loss: 0.0086 - accuracy: 1.0000 - val_loss: 0.1466 - val_accuracy: 0.9500\n",
            "Epoch 99/100\n",
            "3/3 [==============================] - 0s 65ms/step - loss: 0.0127 - accuracy: 1.0000 - val_loss: 0.1345 - val_accuracy: 0.9000\n",
            "Epoch 100/100\n",
            "3/3 [==============================] - 0s 66ms/step - loss: 0.0182 - accuracy: 1.0000 - val_loss: 0.1301 - val_accuracy: 0.9000\n"
          ]
        }
      ],
      "source": [
        "H = model.fit(x_train, y_train, validation_data=(x_test, y_test), \n",
        "          epochs=max_epochs, batch_size=32)"
      ]
    },
    {
      "cell_type": "code",
      "execution_count": 16,
      "metadata": {
        "colab": {
          "base_uri": "https://localhost:8080/",
          "height": 284
        },
        "id": "dAkUP4rmsKSt",
        "outputId": "5a835e5e-7ba4-4698-be98-65efcb5b8f69"
      },
      "outputs": [
        {
          "data": {
            "image/png": "[encoded data removed]",
            "text/plain": [
              "<Figure size 432x288 with 1 Axes>"
            ]
          },
          "metadata": {},
          "output_type": "display_data"
        }
      ],
      "source": [
        "N = np.arange(0, max_epochs)\n",
        "plt.style.use(\"ggplot\")\n",
        "plt.figure()\n",
        "plt.plot(N, H.history[\"loss\"], label=\"train_loss\")\n",
        "plt.plot(N, H.history[\"val_loss\"], label=\"val_loss\")\n",
        "#plt.plot(N, H.history[\"accuracy\"], label=\"train_acc\")\n",
        "#plt.plot(N, H.history[\"val_accuracy\"], label=\"val_acc\")\n",
        "plt.xlabel(\"Epoch #\")\n",
        "plt.legend()\n",
        "plt.show()"
      ]
    },
    {
      "cell_type": "markdown",
      "metadata": {
        "id": "8QVxINO9sKSu"
      },
      "source": [
        "<h3>7. Evaluate the Model</h3>"
      ]
    },
    {
      "cell_type": "code",
      "execution_count": 17,
      "metadata": {
        "colab": {
          "base_uri": "https://localhost:8080/"
        },
        "id": "DC4t0-fDsKSu",
        "outputId": "93cbe8aa-1152-43bf-a413-1a0cbd3dacec"
      },
      "outputs": [
        {
          "name": "stdout",
          "output_type": "stream",
          "text": [
            "              precision    recall  f1-score   support\n",
            "\n",
            " Jeruk Nipis       0.92      0.92      0.92        12\n",
            "       Sirih       0.88      0.88      0.88         8\n",
            "\n",
            "    accuracy                           0.90        20\n",
            "   macro avg       0.90      0.90      0.90        20\n",
            "weighted avg       0.90      0.90      0.90        20\n",
            "\n"
          ]
        }
      ],
      "source": [
        "# menghitung nilai akurasi model terhadap data test\n",
        "predictions = model.predict(x_test, batch_size=32)\n",
        "target = (predictions > 0.5).astype(np.int64)\n",
        "print(classification_report(y_test, target, target_names=label_list))"
      ]
    },
    {
      "cell_type": "code",
      "execution_count": 18,
      "metadata": {
        "colab": {
          "base_uri": "https://localhost:8080/"
        },
        "id": "nLiQ72X5sKSu",
        "outputId": "691007c4-4210-44e1-d6a1-106a1f3f4b4c"
      },
      "outputs": [
        {
          "name": "stdout",
          "output_type": "stream",
          "text": [
            "[[0.99994504]]\n"
          ]
        }
      ],
      "source": [
        "# uji model menggunakan image lain\n",
        "queryPath = imagePaths+'query_sirih.jpg'\n",
        "query = cv2.imread(queryPath)\n",
        "output = query.copy()\n",
        "query = cv2.resize(query, (32, 32))\n",
        "q = []\n",
        "q.append(query)\n",
        "q = np.array(q, dtype='float') / 255.0\n",
        "\n",
        "q_pred = model.predict(q)\n",
        "print(q_pred)"
      ]
    },
    {
      "cell_type": "code",
      "execution_count": 19,
      "metadata": {
        "colab": {
          "base_uri": "https://localhost:8080/",
          "height": 1000
        },
        "id": "P60kDMLAsKSv",
        "outputId": "30096413-92e1-450b-f05f-b438adc78baf"
      },
      "outputs": [
        {
          "data": {
            "text/plain": [
              "<matplotlib.image.AxesImage at 0x23d9e5299a0>"
            ]
          },
          "execution_count": 19,
          "metadata": {},
          "output_type": "execute_result"
        },
        {
          "data": {
            "image/png": "[encoded data removed]",
            "text/plain": [
              "<Figure size 432x288 with 1 Axes>"
            ]
          },
          "metadata": {},
          "output_type": "display_data"
        }
      ],
      "source": [
        "if q_pred<=0.5 :\n",
        "    target = \"Jeruk Nipis\"\n",
        "else :\n",
        "    target = \"Sirih\"\n",
        "text = \"{}\".format(target)\n",
        "cv2.putText(output, text, (20, 250), cv2.FONT_HERSHEY_SIMPLEX, 10, (0, 0, 255), 2)\n",
        " \n",
        "# menampilkan output image\n",
        "cv2_plt_imshow(output)"
      ]
    },
    {
      "cell_type": "code",
      "execution_count": 20,
      "metadata": {
        "id": "yn0Ay4ErsKSv"
      },
      "outputs": [],
      "source": [
        "model.save('nipis_sirih_class_model.h5')"
      ]
    }
  ],
  "metadata": {
    "colab": {
      "name": "Image Classification using CNN.ipynb",
      "provenance": []
    },
    "kernelspec": {
      "display_name": "Python 3",
      "language": "python",
      "name": "python3"
    },
    "language_info": {
      "codemirror_mode": {
        "name": "ipython",
        "version": 3
      },
      "file_extension": ".py",
      "mimetype": "text/x-python",
      "name": "python",
      "nbconvert_exporter": "python",
      "pygments_lexer": "ipython3",
      "version": "3.9.7"
    }
  },
  "nbformat": 4,
  "nbformat_minor": 0
}
